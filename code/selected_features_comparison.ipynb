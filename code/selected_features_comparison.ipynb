{
 "cells": [
  {
   "cell_type": "code",
   "execution_count": 7,
   "metadata": {},
   "outputs": [],
   "source": [
    "import pandas as pd\n",
    "import numpy as np"
   ]
  },
  {
   "cell_type": "code",
   "execution_count": 3,
   "metadata": {},
   "outputs": [],
   "source": [
    "pd1 = pd.read_csv(\"../results/rfe_rf.csv\")\n",
    "pd2 = pd.read_csv(\"../results/rfe_rf_full.csv\")"
   ]
  },
  {
   "cell_type": "code",
   "execution_count": 12,
   "metadata": {},
   "outputs": [
    {
     "name": "stdout",
     "output_type": "stream",
     "text": [
      "feature 1\n",
      "previous: 105\n",
      "new: 105\n",
      "\n",
      "feature 2\n",
      "previous: 100\n",
      "new: 100\n",
      "\n",
      "feature 3\n",
      "previous: 101\n",
      "new: 103\n",
      "\n",
      "feature 4\n",
      "previous: 102\n",
      "new: 102\n",
      "\n",
      "feature 5\n",
      "previous: 103\n",
      "new: 101\n",
      "\n",
      "feature 6\n",
      "previous: 104\n",
      "new: 104\n",
      "\n",
      "feature 7\n",
      "previous: 8\n",
      "new: 8\n",
      "\n",
      "feature 8\n",
      "previous: 113\n",
      "new: 0\n",
      "\n",
      "feature 9\n",
      "previous: 2\n",
      "new: 484\n",
      "\n",
      "feature 10\n",
      "previous: 391\n",
      "new: 295\n",
      "\n"
     ]
    }
   ],
   "source": [
    "for i in range(10):\n",
    "    print(f\"feature {i+1}\")\n",
    "\n",
    "    index_1 = pd1[\"Ranking\"] == i + 1\n",
    "    index_1 = np.where(index_1)[0][0]\n",
    "    print(f\"previous: {index_1}\")\n",
    "\n",
    "    index_2 = pd2[\"Ranking\"] == i + 1\n",
    "    index_2 = np.where(index_2)[0][0]\n",
    "    print(f\"new: {index_2}\")\n",
    "\n",
    "    print()"
   ]
  }
 ],
 "metadata": {
  "language_info": {
   "name": "python"
  }
 },
 "nbformat": 4,
 "nbformat_minor": 2
}
